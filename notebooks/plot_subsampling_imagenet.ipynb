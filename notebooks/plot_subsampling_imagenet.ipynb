{
 "cells": [
  {
   "cell_type": "code",
   "execution_count": 1,
   "metadata": {},
   "outputs": [],
   "source": [
    "import os\n",
    "import sys\n",
    "module_path = os.path.abspath(os.path.join('..'))\n",
    "if module_path not in sys.path:\n",
    "    sys.path.append(module_path)"
   ]
  },
  {
   "cell_type": "code",
   "execution_count": 2,
   "metadata": {},
   "outputs": [],
   "source": [
    "import nci_eval.metrics as metrics"
   ]
  },
  {
   "cell_type": "code",
   "execution_count": 3,
   "metadata": {},
   "outputs": [],
   "source": [
    "import pickle\n",
    "import numpy as np\n",
    "import matplotlib\n",
    "import matplotlib.pyplot as plt\n",
    "import sklearn.metrics as sklmetrics"
   ]
  },
  {
   "cell_type": "code",
   "execution_count": 4,
   "metadata": {},
   "outputs": [],
   "source": [
    "def subsample_neg_class(y_true, y_score, desired_positive_prior):\n",
    "    \n",
    "    desired_size_of_neg_class = int(sum(y_true) / desired_positive_prior - sum(y_true))\n",
    "    # todo rise exception if can not be achieved\n",
    "    \n",
    "    idx_of_pos_class = np.array(range(len(y_true)))[y_true == True]\n",
    "    idx_of_neg_class = np.array(range(len(y_true)))[y_true == False]\n",
    "    \n",
    "    np.random.shuffle(idx_of_neg_class)\n",
    "    subsampled_idx_of_neg_class = idx_of_neg_class[0:desired_size_of_neg_class]\n",
    "    \n",
    "    idx = np.concatenate((idx_of_pos_class, subsampled_idx_of_neg_class))\n",
    "    \n",
    "    return y_true[idx], y_score[idx]\n"
   ]
  },
  {
   "cell_type": "code",
   "execution_count": 5,
   "metadata": {},
   "outputs": [],
   "source": [
    "def fprs_tprs(y_true, y_score, num_of_thresholds=100):\n",
    "    \n",
    "    pos_scores = np.sort(y_score[y_true])\n",
    "    neg_scores = np.sort(y_score[~y_true])\n",
    "    \n",
    "    percentiles = np.flip(np.linspace(0.0, 100.0, num=num_of_thresholds, endpoint=False))\n",
    "    ths = np.percentile(pos_scores, percentiles)\n",
    "    tprs = (100.0 - percentiles) / 100.0\n",
    "    \n",
    "    fprs = np.empty(len(ths), 'float64')\n",
    "    fps, idx_neg = 0, len(neg_scores) - 1\n",
    "    for tt in range(len(ths)):\n",
    "        while idx_neg >= 0 and neg_scores[idx_neg] >= ths[tt]:\n",
    "            fps += 1\n",
    "            idx_neg -= 1\n",
    "        fprs[tt] = fps / len(neg_scores)\n",
    "    \n",
    "    return fprs, tprs, ths\n",
    "    "
   ]
  },
  {
   "cell_type": "code",
   "execution_count": 6,
   "metadata": {},
   "outputs": [],
   "source": [
    "def precision_recall(y_true, y_score, num_of_thresholds=100):\n",
    "    \n",
    "    pos_scores = np.sort(y_score[y_true])\n",
    "    neg_scores = np.sort(y_score[~y_true])\n",
    "    \n",
    "    percentiles = np.flip(np.linspace(0.0, 100.0, num=num_of_thresholds, endpoint=False))\n",
    "    ths = np.percentile(pos_scores, percentiles)\n",
    "    recall = (100.0 - percentiles) / 100.0\n",
    "    \n",
    "    precision = np.empty(len(ths), 'float64')\n",
    "    idx_pos, idx_neg = len(pos_scores) - 1, len(neg_scores) - 1\n",
    "    tps, fps = 0, 0\n",
    "    for ii in range(len(ths)):\n",
    "        while idx_neg >= 0 and neg_scores[idx_neg] >= ths[ii]:\n",
    "            fps += 1\n",
    "            idx_neg -= 1\n",
    "        while idx_pos >= 0 and pos_scores[idx_pos] >= ths[ii]:\n",
    "            tps += 1\n",
    "            idx_pos -= 1\n",
    "        precision[ii] = tps / (tps + fps)\n",
    "    \n",
    "    return precision, recall, ths\n",
    "    "
   ]
  },
  {
   "cell_type": "code",
   "execution_count": 7,
   "metadata": {},
   "outputs": [],
   "source": [
    "def precision_recall_repeat_k_times_subsampling_on_neg_class(y_true, y_score, k, desired_positive_prior):\n",
    "    \n",
    "    k_precisions, k_recalls = [], []\n",
    "    \n",
    "    for kk in range(k):\n",
    "        sub_y_true, sub_y_score = subsample_neg_class(y_true, y_score, desired_positive_prior)\n",
    "        precision, recall, _ = precision_recall(sub_y_true, sub_y_score)\n",
    "        k_precisions.append(precision)\n",
    "        k_recalls.append(recall)\n",
    "        \n",
    "    return k_precisions, k_recalls\n",
    "    "
   ]
  },
  {
   "cell_type": "code",
   "execution_count": 8,
   "metadata": {},
   "outputs": [],
   "source": [
    "def plot_subsampling_imagenet(class_idx, desired_positive_prior=0.01, subsampling_k_repetitions=30):\n",
    "    \n",
    "    with open('./imagenet-val-pred-resnet50.pickle', 'rb') as file:\n",
    "        L, P, C = pickle.load(file)\n",
    "        \n",
    "    print(\"https://google.com/search?q={}\".format(C[class_idx]))\n",
    "    \n",
    "    # Labels and prediction scores\n",
    "    y_true = L == class_idx\n",
    "    y_score = P[:, class_idx]\n",
    "    \n",
    "    # Adjusted precision\n",
    "    fprs, tprs, _ = fprs_tprs(y_true, y_score)\n",
    "#     fprs, tprs, _ = sklmetrics.roc_curve(y_true, y_score)\n",
    "    \n",
    "    adjusted_precision = [metrics.precision_from_tpr_fpr(tpr, fpr, desired_positive_prior) for (tpr, fpr) in zip(tprs, fprs)]\n",
    "    \n",
    "    # Sub-sampling of negative class\n",
    "    k_precisions, k_recalls = precision_recall_repeat_k_times_subsampling_on_neg_class(y_true, y_score, subsampling_k_repetitions, desired_positive_prior)\n",
    "    \n",
    "    # Plot\n",
    "    stacked_k_precisions = np.stack(k_precisions, axis=0)\n",
    "    precision_max = np.max(stacked_k_precisions, axis=0)\n",
    "    precision_min = np.min(stacked_k_precisions, axis=0)\n",
    "    precision_q_25 = np.quantile(stacked_k_precisions, 0.25, axis=0)\n",
    "    precision_q_75 = np.quantile(stacked_k_precisions, 0.75, axis=0)\n",
    "    \n",
    "    plt.fill_between(k_recalls[0], precision_min, precision_q_25, facecolor='k', alpha=0.10, label='Sub-sampling: Min-Max')\n",
    "    plt.fill_between(k_recalls[0], precision_q_25, precision_q_75, facecolor='k', alpha=0.4, label='Sub-sampling: IQR (0.25-0.75)')\n",
    "    plt.fill_between(k_recalls[0], precision_q_75, precision_max, facecolor='k', alpha=0.10)\n",
    "    plt.plot(tprs, adjusted_precision, c='k', label='Adjusted Precision')\n",
    "    plt.xlabel('Recall')\n",
    "    plt.ylabel('Precision')\n",
    "    plt.rc('font', family='serif')\n",
    "    plt.rc('xtick', labelsize='x-small')\n",
    "    plt.rc('ytick', labelsize='x-small')\n",
    "    plt.legend()\n",
    "    "
   ]
  },
  {
   "cell_type": "code",
   "execution_count": 11,
   "metadata": {},
   "outputs": [
    {
     "name": "stdout",
     "output_type": "stream",
     "text": [
      "https://google.com/search?q=n01687978\n"
     ]
    },
    {
     "data": {
      "image/png": "[encoded data removed]",
      "text/plain": [
       "<Figure size 432x288 with 1 Axes>"
      ]
     },
     "metadata": {
      "needs_background": "light"
     },
     "output_type": "display_data"
    }
   ],
   "source": [
    "plot_subsampling_imagenet(class_idx=42, desired_positive_prior=0.01, subsampling_k_repetitions=100)"
   ]
  }
 ],
 "metadata": {
  "kernelspec": {
   "display_name": "Python 3",
   "language": "python",
   "name": "python3"
  },
  "language_info": {
   "codemirror_mode": {
    "name": "ipython",
    "version": 3
   },
   "file_extension": ".py",
   "mimetype": "text/x-python",
   "name": "python",
   "nbconvert_exporter": "python",
   "pygments_lexer": "ipython3",
   "version": "3.6.9"
  }
 },
 "nbformat": 4,
 "nbformat_minor": 2
}
